{
 "cells": [
  {
   "cell_type": "code",
   "execution_count": 2,
   "metadata": {},
   "outputs": [],
   "source": [
    "# mysql module with connector class, that will allow python to use all methods and attributes for querying and connectivity.\n",
    "import mysql.connector"
   ]
  },
  {
   "cell_type": "code",
   "execution_count": 81,
   "metadata": {},
   "outputs": [
    {
     "data": {
      "text/plain": [
       "<mysql.connector.connection.MySQLConnection at 0x3316b91198>"
      ]
     },
     "execution_count": 81,
     "metadata": {},
     "output_type": "execute_result"
    }
   ],
   "source": [
    "# creating a connection to mysql by providing host, user, and password.\n",
    "mydb = mysql.connector.connect(\n",
    "    host = 'localhost',\n",
    "    user = 'root',\n",
    "    passwd = 'abc123'\n",
    ")\n",
    "mydb"
   ]
  },
  {
   "cell_type": "code",
   "execution_count": 9,
   "metadata": {},
   "outputs": [],
   "source": [
    "# the connection was made successful, it means now we can start querying the database using SQL statements."
   ]
  },
  {
   "cell_type": "code",
   "execution_count": 85,
   "metadata": {},
   "outputs": [],
   "source": [
    "# Creating a database -> mydatabase.\n",
    "my_cursor = mydb.cursor()\n",
    "my_cursor.execute(\"CREATE DATABASE mydatabase\")"
   ]
  },
  {
   "cell_type": "code",
   "execution_count": 86,
   "metadata": {},
   "outputs": [
    {
     "name": "stdout",
     "output_type": "stream",
     "text": [
      "('a_database',)\n",
      "('employees',)\n",
      "('information_schema',)\n",
      "('joins',)\n",
      "('lab_assignment_db',)\n",
      "('lab_db',)\n",
      "('mydatabase',)\n",
      "('mysql',)\n",
      "('performance_schema',)\n",
      "('phpmyadmin',)\n",
      "('student',)\n",
      "('university',)\n",
      "('world',)\n"
     ]
    }
   ],
   "source": [
    "# checking if a database already exists.\n",
    "my_cursor.execute(\"SHOW DATABASES\")\n",
    "for x in my_cursor:\n",
    "    print(x)"
   ]
  },
  {
   "cell_type": "code",
   "execution_count": 3,
   "metadata": {},
   "outputs": [],
   "source": [
    "# we can also set the database value initially, when establishing connection, if we are working on a old database.\n",
    "mydb = mysql.connector.connect(\n",
    "    host = 'localhost',\n",
    "    user = 'root',\n",
    "    passwd = 'abc123',\n",
    "    database = 'mydatabase'\n",
    ")\n",
    "\n",
    "# creating cursor object, to execute queries.\n",
    "my_cursor = mydb.cursor(buffered=True)"
   ]
  },
  {
   "cell_type": "code",
   "execution_count": 92,
   "metadata": {},
   "outputs": [],
   "source": [
    "# creating a table in mysql.\n",
    "my_cursor.execute(\"CREATE TABLE customers (name VARCHAR(255), address VARCHAR(255))\")"
   ]
  },
  {
   "cell_type": "code",
   "execution_count": 91,
   "metadata": {},
   "outputs": [],
   "source": [
    "# checking if a table exists in database.\n",
    "my_cursor.execute(\"SHOW TABLES\")\n",
    "for x in my_cursor:\n",
    "    print(x)"
   ]
  },
  {
   "cell_type": "code",
   "execution_count": 95,
   "metadata": {},
   "outputs": [],
   "source": [
    "my_cursor.execute(\"DROP TABLE customers\")"
   ]
  },
  {
   "cell_type": "code",
   "execution_count": 96,
   "metadata": {},
   "outputs": [],
   "source": [
    "# when creating a table, you should also create a column with a unique key for each record.\n",
    "my_cursor.execute(\"CREATE TABLE customers (id INT AUTO_INCREMENT PRIMARY KEY, name VARCHAR(255), address VARCHAR(255))\")"
   ]
  },
  {
   "cell_type": "code",
   "execution_count": 94,
   "metadata": {},
   "outputs": [],
   "source": [
    "# if the table already exists, but need modification, we use ALTER\n",
    "my_cursor.execute(\"ALTER TABLE customers ADD COLUMN id INT AUTO_INCREMENT PRIMARY KEY\")"
   ]
  },
  {
   "cell_type": "code",
   "execution_count": 97,
   "metadata": {},
   "outputs": [
    {
     "name": "stdout",
     "output_type": "stream",
     "text": [
      "1  record inserted.\n"
     ]
    }
   ],
   "source": [
    "# inserting a record into the table -> customers.\n",
    "query = \"INSERT INTO customers (name, address) VALUES (%s, %s)\"\n",
    "value = (\"Tuna\", \"Marine Life\")\n",
    "\n",
    "my_cursor.execute(query, value)\n",
    "\n",
    "# it is mandatory to add this method, it will save the changes into the dabase.\n",
    "mydb.commit()\n",
    "\n",
    "print(my_cursor.rowcount, \" record inserted.\")"
   ]
  },
  {
   "cell_type": "code",
   "execution_count": 98,
   "metadata": {},
   "outputs": [
    {
     "name": "stdout",
     "output_type": "stream",
     "text": [
      "9 records added.\n"
     ]
    }
   ],
   "source": [
    "# inserting multiple records or rows in the table -> customers.  (INSERT)\n",
    "query = \"INSERT INTO customers (name, address) VALUES (%s, %s)\"\n",
    "values = [\n",
    "    ('Peter', 'Lowstreet 4'),\n",
    "    ('Amy', 'Apple st 652'),\n",
    "    ('Hannah', 'Mountain 21'),\n",
    "    ('Michael', 'Valley 345'),\n",
    "    ('Sandy', 'Ocean blvd 2'),\n",
    "    ('Betty', 'Green Grass 1'),\n",
    "    ('Richard', 'Sky st 331'),\n",
    "    ('Susan', 'One way 98'),\n",
    "    ('Vicky', 'Yellow Garden 2')\n",
    "]\n",
    "\n",
    "my_cursor.executemany(query, values)\n",
    "mydb.commit()\n",
    "print(my_cursor.rowcount, \"records added.\")"
   ]
  },
  {
   "cell_type": "code",
   "execution_count": 99,
   "metadata": {},
   "outputs": [
    {
     "name": "stdout",
     "output_type": "stream",
     "text": [
      "Record Inserted ID 11\n"
     ]
    }
   ],
   "source": [
    "# in order to get the inserted row id. \n",
    "query = \"INSERT INTO customers (name, address) VALUES (%s, %s)\"\n",
    "value = (\"Jason\", \"Barrsara Tyaol\")\n",
    "\n",
    "my_cursor.execute(query, value)\n",
    "mydb.commit()\n",
    "\n",
    "# display the last recorded row id.\n",
    "print(\"Record Inserted ID {}\".format(my_cursor.lastrowid))"
   ]
  },
  {
   "cell_type": "code",
   "execution_count": 4,
   "metadata": {},
   "outputs": [
    {
     "name": "stdout",
     "output_type": "stream",
     "text": [
      "(1, 'Tuna', 'Marine Life')\n",
      "(2, 'Peter', 'Lowstreet 4')\n",
      "(3, 'Amy', 'Apple st 652')\n",
      "(4, 'Hannah', 'Mountain 21')\n",
      "(5, 'Michael', 'Valley 345')\n",
      "(6, 'Sandy', 'Ocean blvd 2')\n",
      "(7, 'Betty', 'Green Grass 1')\n",
      "(8, 'Richard', 'Sky st 331')\n",
      "(9, 'Susan', 'One way 98')\n",
      "(10, 'Vicky', 'Yellow Garden 2')\n",
      "(11, 'Jason', 'Barrsara Tyaol')\n"
     ]
    }
   ],
   "source": [
    "# selecting records from a table -> SELECT\n",
    "my_cursor.execute(\"SELECT * FROM customers\")\n",
    "\n",
    "# we use the fetchall() method, which fetches all rows from the last executed statement.\n",
    "records = my_cursor.fetchall()\n",
    "for each_record in records:\n",
    "    print(each_record)"
   ]
  },
  {
   "cell_type": "code",
   "execution_count": 102,
   "metadata": {},
   "outputs": [
    {
     "name": "stdout",
     "output_type": "stream",
     "text": [
      "('Tuna', 'Marine Life')\n",
      "('Peter', 'Lowstreet 4')\n",
      "('Amy', 'Apple st 652')\n",
      "('Hannah', 'Mountain 21')\n",
      "('Michael', 'Valley 345')\n",
      "('Sandy', 'Ocean blvd 2')\n",
      "('Betty', 'Green Grass 1')\n",
      "('Richard', 'Sky st 331')\n",
      "('Susan', 'One way 98')\n",
      "('Vicky', 'Yellow Garden 2')\n",
      "('Jason', 'Barrsara Tyaol')\n"
     ]
    }
   ],
   "source": [
    "# selecting specific columns from table.\n",
    "query = \"SELECT name, address FROM customers\"\n",
    "my_cursor.execute(query)\n",
    "records = my_cursor.fetchall()\n",
    "for each in records:\n",
    "    print(each)"
   ]
  },
  {
   "cell_type": "code",
   "execution_count": 121,
   "metadata": {},
   "outputs": [
    {
     "name": "stdout",
     "output_type": "stream",
     "text": [
      "(1, 'Tuna', 'Marine Life')\n"
     ]
    }
   ],
   "source": [
    "# fetching only one row from table -> customers.\n",
    "my_cursor.execute(\"SELECT * FROM customers\")\n",
    "record = my_cursor.fetchone()\n",
    "print(record)"
   ]
  },
  {
   "cell_type": "code",
   "execution_count": 11,
   "metadata": {},
   "outputs": [
    {
     "name": "stdout",
     "output_type": "stream",
     "text": [
      "('Michael', 'Valley 345')\n",
      "('Sandy', 'Ocean blvd 2')\n",
      "('Betty', 'Green Grass 1')\n",
      "('Richard', 'Sky st 331')\n",
      "('Susan', 'One way 98')\n",
      "('Vicky', 'Yellow Garden 2')\n",
      "('Jason', 'Barrsara Tyaol')\n"
     ]
    }
   ],
   "source": [
    "# selecting with a filter -> WHERE clause\n",
    "query = \"SELECT name, address FROM customers WHERE id > '4'\"\n",
    "my_cursor.execute(query)\n",
    "records = my_cursor.fetchall()\n",
    "for x in records:\n",
    "    print(x)\n",
    "\n",
    "# WHERE address = 'One way 98'\"  -> BAD because of SQL Injection. "
   ]
  },
  {
   "cell_type": "code",
   "execution_count": 25,
   "metadata": {},
   "outputs": [
    {
     "name": "stdout",
     "output_type": "stream",
     "text": [
      "('Tuna',)\n",
      "('Hannah',)\n"
     ]
    }
   ],
   "source": [
    "# use of wildcard characters.  -> %\n",
    "query = \"SELECT name FROM customers WHERE name LIKE '%n%'\"\n",
    "my_cursor.execute(query)\n",
    "records = my_cursor.fetchmany(2)\n",
    "for x in records:\n",
    "    print(x)"
   ]
  },
  {
   "cell_type": "code",
   "execution_count": 40,
   "metadata": {},
   "outputs": [
    {
     "name": "stdout",
     "output_type": "stream",
     "text": [
      "(2, 'Peter', 'Lowstreet 4')\n",
      "(3, 'Amy', 'Apple st 652')\n",
      "(4, 'Hannah', 'Mountain 21')\n",
      "(5, 'Michael', 'Valley 345')\n",
      "(6, 'Sandy', 'Ocean blvd 2')\n",
      "(7, 'Betty', 'Green Grass 1')\n",
      "(8, 'Richard', 'Sky st 331')\n",
      "(9, 'Susan', 'One way 98')\n",
      "(10, 'Vicky', 'Yellow Garden 2')\n",
      "(11, 'Jason', 'Barrsara Tyaol')\n"
     ]
    }
   ],
   "source": [
    "# good approch, avoiding SQL Injection.\n",
    "query = \"SELECT * FROM customers WHERE name <> %s\"\n",
    "value = ('Tuna',)\n",
    "my_cursor.execute(query, value)\n",
    "records = my_cursor\n",
    "for x in my_cursor.fetchall():\n",
    "    print(x)"
   ]
  }
 ],
 "metadata": {
  "kernelspec": {
   "display_name": "Python 3",
   "language": "python",
   "name": "python3"
  },
  "language_info": {
   "codemirror_mode": {
    "name": "ipython",
    "version": 3
   },
   "file_extension": ".py",
   "mimetype": "text/x-python",
   "name": "python",
   "nbconvert_exporter": "python",
   "pygments_lexer": "ipython3",
   "version": "3.7.3"
  }
 },
 "nbformat": 4,
 "nbformat_minor": 2
}
