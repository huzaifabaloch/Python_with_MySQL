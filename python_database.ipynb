{
 "cells": [
  {
   "cell_type": "code",
   "execution_count": 2,
   "metadata": {},
   "outputs": [],
   "source": [
    "import mysql.connector"
   ]
  },
  {
   "cell_type": "code",
   "execution_count": 32,
   "metadata": {},
   "outputs": [],
   "source": [
    "# establishing connection to the localserver.\n",
    "mydb = mysql.connector.connect(\n",
    "    host = 'localhost',\n",
    "    user = 'root',\n",
    "    passwd = 'abc123',\n",
    ")\n",
    "my_cursor = mydb.cursor(buffered=True)"
   ]
  },
  {
   "cell_type": "code",
   "execution_count": 33,
   "metadata": {},
   "outputs": [],
   "source": [
    "# drop database query.\n",
    "my_cursor.execute(\"DROP DATABASE python_database\")"
   ]
  },
  {
   "cell_type": "code",
   "execution_count": 34,
   "metadata": {},
   "outputs": [],
   "source": [
    "# create database query.\n",
    "my_cursor.execute(\"CREATE DATABASE python_database\")"
   ]
  },
  {
   "cell_type": "code",
   "execution_count": 39,
   "metadata": {},
   "outputs": [
    {
     "name": "stdout",
     "output_type": "stream",
     "text": [
      "('a_database',)\n",
      "('employees',)\n",
      "('information_schema',)\n",
      "('joins',)\n",
      "('lab_assignment_db',)\n",
      "('lab_db',)\n",
      "('mydatabase',)\n",
      "('mysql',)\n",
      "('performance_schema',)\n",
      "('phpmyadmin',)\n",
      "('python_database',)\n",
      "('student',)\n",
      "('university',)\n",
      "('world',)\n"
     ]
    }
   ],
   "source": [
    "# show databases query.\n",
    "my_cursor.execute(\"SHOW DATABASES\")\n",
    "for x in my_cursor:\n",
    "    print(x)"
   ]
  },
  {
   "cell_type": "code",
   "execution_count": 89,
   "metadata": {},
   "outputs": [],
   "source": [
    "# create table query.\n",
    "mydb = mysql.connector.connect(\n",
    "    host = 'localhost',\n",
    "    user = 'root',\n",
    "    passwd = 'abc123',\n",
    "    database = 'python_database'\n",
    ")\n",
    "my_cursor = mydb.cursor(buffered=True)\n",
    "sql_query = \"CREATE TABLE language_usage (name VARCHAR(40) NOT NULL, usage_of_language VARCHAR(20) NOT NULL)\"\n",
    "my_cursor.execute(sql_query)"
   ]
  },
  {
   "cell_type": "code",
   "execution_count": 88,
   "metadata": {},
   "outputs": [],
   "source": [
    "# drop table query.\n",
    "my_cursor.execute(\"DROP TABLE language_usage\")"
   ]
  },
  {
   "cell_type": "code",
   "execution_count": 90,
   "metadata": {},
   "outputs": [],
   "source": [
    "# primary key and a column.\n",
    "sql_query = \"ALTER TABLE language_usage ADD COLUMN id INT AUTO_INCREMENT PRIMARY KEY\"\n",
    "my_cursor.execute(sql_query)"
   ]
  },
  {
   "cell_type": "code",
   "execution_count": 93,
   "metadata": {},
   "outputs": [],
   "source": [
    "# insert a record query.\n",
    "sql_query = \"INSERT INTO language_usage (name, usage_of_language) VALUES (%s, %s)\"\n",
    "value = ('c#', '74%')\n",
    "my_cursor.execute(sql_query, value)\n",
    "# to save the work on server.\n",
    "mydb.commit()"
   ]
  },
  {
   "cell_type": "code",
   "execution_count": 99,
   "metadata": {},
   "outputs": [
    {
     "name": "stdout",
     "output_type": "stream",
     "text": [
      "4\n"
     ]
    }
   ],
   "source": [
    "# insert records query.\n",
    "sql_query = \"INSERT INTO language_usage (name, usage_of_language) VALUES (%s, %s)\"\n",
    "value = [\n",
    "    ('ruby', '78%'),\n",
    "    ('react', '88%'),\n",
    "    ('r', '75%'),\n",
    "    ('java', '79%'),\n",
    "]\n",
    "my_cursor.executemany(sql_query, value)\n",
    "mydb.commit()\n",
    "print(my_cursor.rowcount)"
   ]
  },
  {
   "cell_type": "code",
   "execution_count": 123,
   "metadata": {},
   "outputs": [
    {
     "name": "stdout",
     "output_type": "stream",
     "text": [
      "('python', '84%')\n",
      "('c#', '74%')\n",
      "('ruby', '78%')\n",
      "('react', '88%')\n",
      "('r', '75%')\n",
      "('java', '79%')\n",
      "('ruby', '78%')\n",
      "('react', '88%')\n",
      "('r', '75%')\n",
      "('java', '79%')\n",
      "('ruby', '78%')\n",
      "('react', '88%')\n",
      "('r', '75%')\n",
      "('java', '79%')\n",
      "('ruby', '78%')\n",
      "('react', '88%')\n",
      "('r', '75%')\n",
      "('java', '79%')\n",
      "('ruby', '78%')\n",
      "('react', '88%')\n",
      "('r', '75%')\n",
      "('java', '79%')\n"
     ]
    }
   ],
   "source": [
    "# retrieving records using SELECT.\n",
    "my_cursor.execute(\"SELECT name, usage_of_language FROM language_usage\")\n",
    "records = my_cursor.fetchall()\n",
    "for x in records:\n",
    "    print(x)"
   ]
  }
 ],
 "metadata": {
  "kernelspec": {
   "display_name": "Python 3",
   "language": "python",
   "name": "python3"
  },
  "language_info": {
   "codemirror_mode": {
    "name": "ipython",
    "version": 3
   },
   "file_extension": ".py",
   "mimetype": "text/x-python",
   "name": "python",
   "nbconvert_exporter": "python",
   "pygments_lexer": "ipython3",
   "version": "3.7.3"
  }
 },
 "nbformat": 4,
 "nbformat_minor": 2
}
